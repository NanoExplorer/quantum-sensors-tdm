{
 "cells": [
  {
   "cell_type": "markdown",
   "id": "e87942e9-9d6b-410f-a525-ce79e6d46a02",
   "metadata": {},
   "source": [
    "# How to: Cold load sweep analysis \n",
    "How to analyze a cold load sweep data set using the velma branch of nistqsptdm repository.  Data stored in a .json file in custom data format IVColdloadSweepData within iv_data.py.  A data map csv file is also required to map readout channels to detector names.\n",
    "\n",
    "Uses file example_data/example_IVColdloadSweepData.json.\n",
    "This file is the same as /data/uber_omt/20231013/taurus_ColumnA_ivs_20231114_1699985874.json\n",
    "\n"
   ]
  },
  {
   "cell_type": "code",
   "execution_count": 1,
   "id": "c2568be8-56f2-4787-b8e2-ab6d4ead9d7e",
   "metadata": {},
   "outputs": [],
   "source": [
    "# the python modules\n",
    "import numpy as np\n",
    "import matplotlib.pyplot as plt\n",
    "%matplotlib widget \n",
    "\n",
    "import detchar\n",
    "import detchar.analysis.ivAnalysis_utils as ivut\n",
    "from detchar.analysis.detector_map import DetectorMap"
   ]
  },
  {
   "cell_type": "code",
   "execution_count": 2,
   "id": "0008ed17-92ed-47b5-ae96-34e779123722",
   "metadata": {},
   "outputs": [],
   "source": [
    "file = 'example_data/example_IVColdloadSweepData.json' \n",
    "detector_map_file = 'example_data/dmap_IVColdloadSweepData.csv'\n"
   ]
  },
  {
   "cell_type": "code",
   "execution_count": 3,
   "id": "f6531441-9d0d-4213-b01f-e8fa7f7b32a6",
   "metadata": {},
   "outputs": [],
   "source": [
    "dm = DetectorMap(detector_map_file) # instance of detector map file\n",
    "ivcl = ivut.IVColdloadSweepAnalyzer(file,dm) # main class for analysis of an IV cold load sweep"
   ]
  },
  {
   "cell_type": "code",
   "execution_count": 4,
   "id": "b01350b0-e0f2-4b13-9835-9e771301cd1a",
   "metadata": {},
   "outputs": [],
   "source": [
    "# helper functions\n",
    "def get_predicted_power_for_row(row_index,cl_indices):\n",
    "    ''' return top-hat-band predicted power to be used to determine optical efficiency '''\n",
    "    [fstart,fend] = dm.map_dict['Row%02d'%row_index]['freq_edges_ghz']\n",
    "    predicted_power_w = []\n",
    "    for t in np.array(ivcl.post_cl_temps_k)[cl_indices,0]:\n",
    "        predicted_power_w.append(ivut.thermalPower(fstart*1e9,fend*1e9,t))\n",
    "    return predicted_power_w"
   ]
  },
  {
   "cell_type": "markdown",
   "id": "ed328d86-db4f-466a-b8a6-80c1dc1ac376",
   "metadata": {},
   "source": [
    "## Check environmental conditions\n",
    "What coldload and bath temperatures does this data file have?  Where these commanded values acheived?"
   ]
  },
  {
   "cell_type": "code",
   "execution_count": 5,
   "id": "3654a2be-6493-4c3c-aa2e-71ad03f67b3a",
   "metadata": {},
   "outputs": [],
   "source": [
    "ivcl.print_info()"
   ]
  },
  {
   "cell_type": "code",
   "execution_count": 6,
   "id": "e77ea63e-b5d4-423b-a80a-9d6923a4173b",
   "metadata": {},
   "outputs": [],
   "source": [
    "plt.figure()\n",
    "ivcl.plot_measured_bath_temps()"
   ]
  },
  {
   "cell_type": "code",
   "execution_count": 7,
   "id": "1fa49a3b-9b00-4925-bcee-cc85b8ede75f",
   "metadata": {},
   "outputs": [],
   "source": [
    "#plt.figure()\n",
    "ivcl.plot_measured_cl_temps() # there are two thermometers on the load \"ChA\" and \"ChB\""
   ]
  },
  {
   "cell_type": "code",
   "execution_count": 8,
   "id": "a312f2fa-01c1-4b7a-b1c5-6642c2980b8a",
   "metadata": {},
   "outputs": [],
   "source": [
    "ivcl.pre_cl_temps_k # explicitly list the measured coldload temperatures"
   ]
  },
  {
   "cell_type": "markdown",
   "id": "6fe93e7e-8614-4d13-ac34-082d6555ade3",
   "metadata": {},
   "source": [
    "## check detector data quality"
   ]
  },
  {
   "cell_type": "code",
   "execution_count": 9,
   "id": "94cf5111-1b49-49f8-9c0a-4f4b048fd4d8",
   "metadata": {},
   "outputs": [],
   "source": [
    "# change index to see data quality for a particular detector\n",
    "ivcl.plot_cl_temp_sweep_for_row(row_index=1,bath_temp_index=0) "
   ]
  },
  {
   "cell_type": "markdown",
   "id": "3c15ede6-9ab8-4eaf-bbda-c8771ef46d55",
   "metadata": {},
   "source": [
    "# Do full data analysis on a single channel to extract the optical efficiency"
   ]
  },
  {
   "cell_type": "code",
   "execution_count": 10,
   "id": "5ced127f-7651-4a51-9697-a284a6c5535c",
   "metadata": {},
   "outputs": [],
   "source": [
    "row_index = 4\n",
    "cl_indices = list(range(1,8))\n",
    "predicted_power_w = get_predicted_power_for_row(row_index,cl_indices)"
   ]
  },
  {
   "cell_type": "code",
   "execution_count": 11,
   "id": "4d50ab59-bc00-4257-9bdd-8d0461fd978b",
   "metadata": {},
   "outputs": [],
   "source": [
    "eta_single_row = ivcl.plot_sweep_analysis_for_row(row_index,0,cl_indices,predicted_power_w=np.array(predicted_power_w))"
   ]
  },
  {
   "cell_type": "code",
   "execution_count": 12,
   "id": "e50d3f5a-8bf6-4c43-b770-33fff08e59fd",
   "metadata": {},
   "outputs": [],
   "source": [
    "eta_single_row.eta_Dp_arr # fixed temperature reference.  "
   ]
  },
  {
   "cell_type": "code",
   "execution_count": 13,
   "id": "fd32dfec-6fb3-491f-84a2-c7ce4c762c37",
   "metadata": {},
   "outputs": [],
   "source": [
    "np.shape(eta_single_row.eta_Dp_arr) # N_resistance_fractions x M-1 coldload temperatures"
   ]
  },
  {
   "cell_type": "code",
   "execution_count": 14,
   "id": "a57d68e9-d2b2-4de3-af25-f1dcb63b895f",
   "metadata": {},
   "outputs": [],
   "source": [
    "print('Optical efficiency (fixed ref method) of Row%02d is %.3f +/- %0.3f'%(row_index,np.mean(eta_single_row.eta_Dp_arr),np.std(eta_single_row.eta_Dp_arr)))"
   ]
  },
  {
   "cell_type": "code",
   "execution_count": 15,
   "id": "7273f91a-47e4-4979-be5c-8936cb29724d",
   "metadata": {},
   "outputs": [],
   "source": [
    "eta_single_row.eta_dp_arr # eta_dp_arr (not little d) is the differential method"
   ]
  },
  {
   "cell_type": "code",
   "execution_count": 16,
   "id": "f1d6fc84-1759-4c64-9253-ae4ba5474a27",
   "metadata": {},
   "outputs": [],
   "source": [
    "print('Optical efficiency (diff method) of Row%02d is %.3f +/- %0.3f'%(row_index,np.mean(eta_single_row.eta_dp_arr),np.std(eta_single_row.eta_Dp_arr)))"
   ]
  },
  {
   "cell_type": "code",
   "execution_count": null,
   "id": "7e951c32-a084-481d-9f70-9685196b5229",
   "metadata": {},
   "outputs": [],
   "source": []
  }
 ],
 "metadata": {
  "kernelspec": {
   "display_name": "Python 3 (ipykernel)",
   "language": "python",
   "name": "python3"
  },
  "language_info": {
   "codemirror_mode": {
    "name": "ipython",
    "version": 3
   },
   "file_extension": ".py",
   "mimetype": "text/x-python",
   "name": "python",
   "nbconvert_exporter": "python",
   "pygments_lexer": "ipython3",
   "version": "3.8.10"
  }
 },
 "nbformat": 4,
 "nbformat_minor": 5
}
